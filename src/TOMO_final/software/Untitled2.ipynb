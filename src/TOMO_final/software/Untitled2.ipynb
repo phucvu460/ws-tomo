{
 "cells": [
  {
   "cell_type": "code",
   "execution_count": 1,
   "metadata": {
    "scrolled": true
   },
   "outputs": [
    {
     "name": "stdout",
     "output_type": "stream",
     "text": [
      "interface name:  enp8s0\n",
      "vendor_id 154\n",
      "productcode 198948\n",
      "6 slaves found and configured\n",
      "current_state_____ 2\n",
      "current_state_____ 2\n",
      "current_state_____ 2\n",
      "current_state_____ 2\n",
      "current_state_____ 2\n",
      "current_state_____ 2\n",
      ">>>preop:  2\n",
      ">>>OP_STATE:  8\n",
      ">>>current state:  8\n",
      "---output len 23\n"
     ]
    }
   ],
   "source": [
    "from Mailbox import mail_box\n",
    "import math\n",
    "import time"
   ]
  },
  {
   "cell_type": "code",
   "execution_count": 2,
   "metadata": {
    "scrolled": true
   },
   "outputs": [
    {
     "name": "stdout",
     "output_type": "stream",
     "text": [
      "shoulder_1\n",
      "SlaveInfo(ID=0, DRIVER_TYPE='GOLD_DRIVE', BELONG_TO='arm', PARSING_INFO='<iIHIIIb', JOINT_NAME='shoulder_1', GEAR_RATIO=100, ENCODER_RES=65536, TARGET_DEACCE=5000, TARGET_ACCE=5000, TARGET_VELOCITY=5000, ACTUAL_TORQUE=0, TARGET_POS=0, TARGET_REACH=False, CONTROL_WORD=0, STATUS_WORD=0, MODE_OF_OPERATION=1, DIGITAL_OUTPUT=0, ACTUAL_POS=0, DIGITAL_INPUT=0, ACTUAL_VELOCITY=0, DRIVE_DEF=<module 'Ethercat_Communication.Gold_drive_definition' from '/home/joey/ws_moveit/src/both_arm_head/software/Ethercat_Communication/Gold_drive_definition.py'>)\n",
      "shoulder_2\n",
      "SlaveInfo(ID=1, DRIVER_TYPE='GOLD_DRIVE', BELONG_TO='arm', PARSING_INFO='<iIHIIIb', JOINT_NAME='shoulder_2', GEAR_RATIO=100, ENCODER_RES=65536, TARGET_DEACCE=5000, TARGET_ACCE=5000, TARGET_VELOCITY=5000, ACTUAL_TORQUE=0, TARGET_POS=0, TARGET_REACH=False, CONTROL_WORD=0, STATUS_WORD=0, MODE_OF_OPERATION=1, DIGITAL_OUTPUT=0, ACTUAL_POS=0, DIGITAL_INPUT=0, ACTUAL_VELOCITY=0, DRIVE_DEF=<module 'Ethercat_Communication.Gold_drive_definition' from '/home/joey/ws_moveit/src/both_arm_head/software/Ethercat_Communication/Gold_drive_definition.py'>)\n",
      "upper_arm\n",
      "SlaveInfo(ID=2, DRIVER_TYPE='GOLD_DRIVE', BELONG_TO='arm', PARSING_INFO='<iIHIIIb', JOINT_NAME='upper_arm', GEAR_RATIO=80, ENCODER_RES=65536, TARGET_DEACCE=5000, TARGET_ACCE=5000, TARGET_VELOCITY=5000, ACTUAL_TORQUE=0, TARGET_POS=0, TARGET_REACH=False, CONTROL_WORD=0, STATUS_WORD=0, MODE_OF_OPERATION=1, DIGITAL_OUTPUT=0, ACTUAL_POS=0, DIGITAL_INPUT=0, ACTUAL_VELOCITY=0, DRIVE_DEF=<module 'Ethercat_Communication.Gold_drive_definition' from '/home/joey/ws_moveit/src/both_arm_head/software/Ethercat_Communication/Gold_drive_definition.py'>)\n",
      "elbow\n",
      "SlaveInfo(ID=3, DRIVER_TYPE='GOLD_DRIVE', BELONG_TO='arm', PARSING_INFO='<iIHIIIb', JOINT_NAME='elbow', GEAR_RATIO=80, ENCODER_RES=65536, TARGET_DEACCE=5000, TARGET_ACCE=5000, TARGET_VELOCITY=5000, ACTUAL_TORQUE=0, TARGET_POS=0, TARGET_REACH=False, CONTROL_WORD=0, STATUS_WORD=0, MODE_OF_OPERATION=1, DIGITAL_OUTPUT=0, ACTUAL_POS=0, DIGITAL_INPUT=0, ACTUAL_VELOCITY=0, DRIVE_DEF=<module 'Ethercat_Communication.Gold_drive_definition' from '/home/joey/ws_moveit/src/both_arm_head/software/Ethercat_Communication/Gold_drive_definition.py'>)\n",
      "lower_arm\n",
      "SlaveInfo(ID=4, DRIVER_TYPE='GOLD_DRIVE', BELONG_TO='arm', PARSING_INFO='<iIHIIIb', JOINT_NAME='lower_arm', GEAR_RATIO=50, ENCODER_RES=65536, TARGET_DEACCE=5000, TARGET_ACCE=5000, TARGET_VELOCITY=5000, ACTUAL_TORQUE=0, TARGET_POS=0, TARGET_REACH=False, CONTROL_WORD=0, STATUS_WORD=0, MODE_OF_OPERATION=1, DIGITAL_OUTPUT=0, ACTUAL_POS=0, DIGITAL_INPUT=0, ACTUAL_VELOCITY=0, DRIVE_DEF=<module 'Ethercat_Communication.Gold_drive_definition' from '/home/joey/ws_moveit/src/both_arm_head/software/Ethercat_Communication/Gold_drive_definition.py'>)\n",
      "wrist\n",
      "SlaveInfo(ID=5, DRIVER_TYPE='GOLD_DRIVE', BELONG_TO='arm', PARSING_INFO='<iIHIIIb', JOINT_NAME='wrist', GEAR_RATIO=50, ENCODER_RES=65536, TARGET_DEACCE=5000, TARGET_ACCE=5000, TARGET_VELOCITY=5000, ACTUAL_TORQUE=0, TARGET_POS=0, TARGET_REACH=False, CONTROL_WORD=0, STATUS_WORD=0, MODE_OF_OPERATION=1, DIGITAL_OUTPUT=0, ACTUAL_POS=0, DIGITAL_INPUT=0, ACTUAL_VELOCITY=0, DRIVE_DEF=<module 'Ethercat_Communication.Gold_drive_definition' from '/home/joey/ws_moveit/src/both_arm_head/software/Ethercat_Communication/Gold_drive_definition.py'>)\n"
     ]
    }
   ],
   "source": [
    "mail = mail_box.MAIL_BOX()\n",
    "\n",
    "\n",
    "left_arm_0 = 0 \n",
    "left_arm_1 = 1 \n",
    "left_arm_2 = 2 \n",
    "left_arm_3 = 3\n",
    "left_arm_4 = 4 \n",
    "left_arm_5 = 5 \n",
    "head_1 = 6 \n",
    "head_2 = 7\n",
    "right_arm_0 = 8\n",
    "right_arm_1 = 9\n",
    "right_arm_2 = 10\n",
    "right_arm_3 = 11\n",
    "right_arm_4 = 12\n",
    "right_arm_5 = 13"
   ]
  },
  {
   "cell_type": "code",
   "execution_count": 3,
   "metadata": {},
   "outputs": [],
   "source": [
    "mail.servo_on(0)\n",
    "mail.servo_on(1)\n",
    "mail.servo_on(2)\n",
    "mail.servo_on(3)\n",
    "mail.servo_on(4)\n",
    "mail.servo_on(5)"
   ]
  },
  {
   "cell_type": "code",
   "execution_count": 8,
   "metadata": {
    "scrolled": false
   },
   "outputs": [
    {
     "name": "stdout",
     "output_type": "stream",
     "text": [
      "157.07963267948966 10.471975511965978 0.6981317007977318 0.6981317007977318\n",
      "pos 1638400\n",
      "vel 109226\n",
      "acc 7281\n",
      "deacc 7281\n"
     ]
    }
   ],
   "source": [
    " mail.move_to_position_test(id = 1,\n",
    "                            speed_current=0,\n",
    "                            speed_final=0,\n",
    "                            rad=math.pi/2,\n",
    "                            time_to_reach=30, \n",
    "                            start_pos_in_rad=0,\n",
    "                            acce_ratio=0.5,\n",
    "                            deacce_ratio=0.5,\n",
    "                            constant_ratio=0)"
   ]
  },
  {
   "cell_type": "code",
   "execution_count": 7,
   "metadata": {},
   "outputs": [
    {
     "name": "stdout",
     "output_type": "stream",
     "text": [
      "0 9.519977738150889 0.3966657390896204 3.173325912716963\n",
      "pos 0\n",
      "vel 99296\n",
      "acc 4137\n",
      "deacc 33098\n"
     ]
    }
   ],
   "source": [
    " mail.move_to_position_test(id = 1,\n",
    "                            speed_current=0,\n",
    "                            speed_final=0,\n",
    "                            rad=0,\n",
    "                            time_to_reach=30, \n",
    "                            start_pos_in_rad=math.pi/2,\n",
    "                            acce_ratio=0.8,\n",
    "                            deacce_ratio=0.1,\n",
    "                            constant_ratio=0.1)"
   ]
  },
  {
   "cell_type": "code",
   "execution_count": null,
   "metadata": {},
   "outputs": [],
   "source": []
  },
  {
   "cell_type": "code",
   "execution_count": null,
   "metadata": {},
   "outputs": [],
   "source": []
  },
  {
   "cell_type": "code",
   "execution_count": null,
   "metadata": {},
   "outputs": [],
   "source": []
  },
  {
   "cell_type": "code",
   "execution_count": null,
   "metadata": {},
   "outputs": [],
   "source": []
  },
  {
   "cell_type": "code",
   "execution_count": null,
   "metadata": {},
   "outputs": [],
   "source": []
  },
  {
   "cell_type": "code",
   "execution_count": 16,
   "metadata": {},
   "outputs": [
    {
     "name": "stdout",
     "output_type": "stream",
     "text": [
      "pos 2184533\n",
      "vel 289501\n",
      "acc 61732\n",
      "deacc 96152\n"
     ]
    }
   ],
   "source": [
    " mail.move_to_position_test(1,10,0.1,math.pi/1.5,10,0)"
   ]
  },
  {
   "cell_type": "code",
   "execution_count": 9,
   "metadata": {},
   "outputs": [
    {
     "data": {
      "text/plain": [
       "<module 'math' from '/home/frankie/anaconda3/lib/python3.7/lib-dynload/math.cpython-37m-x86_64-linux-gnu.so'>"
      ]
     },
     "execution_count": 9,
     "metadata": {},
     "output_type": "execute_result"
    }
   ],
   "source": [
    "math"
   ]
  },
  {
   "cell_type": "code",
   "execution_count": 3,
   "metadata": {},
   "outputs": [],
   "source": [
    "import numpy as np"
   ]
  },
  {
   "cell_type": "code",
   "execution_count": 14,
   "metadata": {},
   "outputs": [],
   "source": [
    "a= np.full([2,10],0)"
   ]
  },
  {
   "cell_type": "code",
   "execution_count": 26,
   "metadata": {},
   "outputs": [],
   "source": [
    "a[0][1] = 3"
   ]
  },
  {
   "cell_type": "code",
   "execution_count": 1,
   "metadata": {},
   "outputs": [],
   "source": [
    "from Kinematic import forward_kinematic\n",
    "import numpy as np\n"
   ]
  },
  {
   "cell_type": "code",
   "execution_count": 2,
   "metadata": {},
   "outputs": [],
   "source": [
    "ki = forward_kinematic.kinematic()"
   ]
  },
  {
   "cell_type": "code",
   "execution_count": 7,
   "metadata": {},
   "outputs": [
    {
     "data": {
      "text/plain": [
       "-1"
      ]
     },
     "execution_count": 7,
     "metadata": {},
     "output_type": "execute_result"
    }
   ],
   "source": [
    "ki.homogeneous_translation_funciton(math.pi,-math.pi/2,0,259)[0][0]"
   ]
  },
  {
   "cell_type": "code",
   "execution_count": 8,
   "metadata": {},
   "outputs": [],
   "source": [
    "ddd_1 =0"
   ]
  },
  {
   "cell_type": "code",
   "execution_count": 9,
   "metadata": {},
   "outputs": [
    {
     "ename": "NameError",
     "evalue": "name 'ddd_' is not defined",
     "output_type": "error",
     "traceback": [
      "\u001b[0;31m---------------------------------------------------------------------------\u001b[0m",
      "\u001b[0;31mNameError\u001b[0m                                 Traceback (most recent call last)",
      "\u001b[0;32m<ipython-input-9-77a0c02e5c58>\u001b[0m in \u001b[0;36m<module>\u001b[0;34m\u001b[0m\n\u001b[0;32m----> 1\u001b[0;31m \u001b[0mddd_\u001b[0m\u001b[0;34m+\u001b[0m\u001b[0mstr\u001b[0m\u001b[0;34m(\u001b[0m\u001b[0;36m1\u001b[0m\u001b[0;34m)\u001b[0m\u001b[0;34m\u001b[0m\u001b[0;34m\u001b[0m\u001b[0m\n\u001b[0m",
      "\u001b[0;31mNameError\u001b[0m: name 'ddd_' is not defined"
     ]
    }
   ],
   "source": [
    "ddd_+str(1)"
   ]
  },
  {
   "cell_type": "code",
   "execution_count": null,
   "metadata": {},
   "outputs": [],
   "source": []
  }
 ],
 "metadata": {
  "kernelspec": {
   "display_name": "Python 3",
   "language": "python",
   "name": "python3"
  },
  "language_info": {
   "codemirror_mode": {
    "name": "ipython",
    "version": 3
   },
   "file_extension": ".py",
   "mimetype": "text/x-python",
   "name": "python",
   "nbconvert_exporter": "python",
   "pygments_lexer": "ipython3",
   "version": "3.7.4"
  }
 },
 "nbformat": 4,
 "nbformat_minor": 2
}
