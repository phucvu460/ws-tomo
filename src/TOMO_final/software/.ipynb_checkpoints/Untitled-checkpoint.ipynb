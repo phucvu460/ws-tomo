{
 "cells": [
  {
   "cell_type": "code",
   "execution_count": 1,
   "metadata": {
    "scrolled": false
   },
   "outputs": [
    {
     "name": "stdout",
     "output_type": "stream",
     "text": [
      "interface name:  enp8s0\n",
      "vendor_id 327\n",
      "productcode 12601\n",
      "2 slaves found and configured\n",
      "current_state_____ 2\n",
      "current_state_____ 2\n"
     ]
    }
   ],
   "source": [
    "from Mailbox import mail_box\n",
    "import math\n",
    "import time"
   ]
  },
  {
   "cell_type": "code",
   "execution_count": 2,
   "metadata": {},
   "outputs": [],
   "source": [
    "mail = mail_box.MAIL_BOX()"
   ]
  },
  {
   "cell_type": "code",
   "execution_count": 3,
   "metadata": {
    "scrolled": true
   },
   "outputs": [
    {
     "name": "stdout",
     "output_type": "stream",
     "text": [
      "(0, SlaveInfo(ID=0, DRIVER_TYPE='MC', PARSING_INFO='<HBIIi', TARGET_DEACCE=5000, TARGET_ACCE=5000, TARGET_VELOCITY=5000, ACTUAL_TORQUE=0, TARGET_POS=0, TARGET_REACH=False, CONTROL_WORD=0, STATUS_WORD=0, MODE_OF_OPERATION=1, DIGITAL_OUTPUT=0, ACTUAL_POS=0, DIGITAL_INPUT=0, DRIVE_DEF=<module 'Ethercat_Communication.MC_definition' from '/home/frankie/tomo_repo/software/Ethercat_Communication/MC_definition.py'>))\n",
      "(0, SlaveInfo(ID=0, DRIVER_TYPE='MC', PARSING_INFO='<HBIIi', TARGET_DEACCE=5000, TARGET_ACCE=5000, TARGET_VELOCITY=5000, ACTUAL_TORQUE=0, TARGET_POS=0, TARGET_REACH=False, CONTROL_WORD=0, STATUS_WORD=0, MODE_OF_OPERATION=1, DIGITAL_OUTPUT=0, ACTUAL_POS=0, DIGITAL_INPUT=0, DRIVE_DEF=<module 'Ethercat_Communication.MC_definition' from '/home/frankie/tomo_repo/software/Ethercat_Communication/MC_definition.py'>))\n",
      "(1, SlaveInfo(ID=1, DRIVER_TYPE='MC', PARSING_INFO='<HBIIi', TARGET_DEACCE=5000, TARGET_ACCE=5000, TARGET_VELOCITY=5000, ACTUAL_TORQUE=0, TARGET_POS=0, TARGET_REACH=False, CONTROL_WORD=0, STATUS_WORD=0, MODE_OF_OPERATION=1, DIGITAL_OUTPUT=0, ACTUAL_POS=0, DIGITAL_INPUT=0, DRIVE_DEF=<module 'Ethercat_Communication.MC_definition' from '/home/frankie/tomo_repo/software/Ethercat_Communication/MC_definition.py'>))\n"
     ]
    }
   ],
   "source": [
    "mail.mail_box_register(0,'MC')\n",
    "mail.mail_box_register(1,'MC')"
   ]
  },
  {
   "cell_type": "code",
   "execution_count": 4,
   "metadata": {},
   "outputs": [],
   "source": [
    "mail.SDO_servo_on(0)\n",
    "mail.SDO_servo_on(1)"
   ]
  },
  {
   "cell_type": "code",
   "execution_count": 5,
   "metadata": {
    "scrolled": false
   },
   "outputs": [
    {
     "name": "stdout",
     "output_type": "stream",
     "text": [
      "data size 4\n",
      "b'\\x00\\x00\\x00\\x00'\n",
      "[115.61060965  16.51580138   5.50526713   5.50526713]\n",
      "115\n",
      "16\n",
      "5\n",
      "5\n"
     ]
    }
   ],
   "source": [
    "# mail.SDO_go_to_pos(1,math.pi/2,10)\n",
    "mail.SDO_go_to_pos(0,math.pi/2,10)\n"
   ]
  },
  {
   "cell_type": "code",
   "execution_count": 22,
   "metadata": {},
   "outputs": [
    {
     "name": "stdout",
     "output_type": "stream",
     "text": [
      "data size 4\n",
      "b'\\x00}\\x00\\x00'\n",
      "32000\n"
     ]
    }
   ],
   "source": [
    "mail.read_sdo_test(0,[0x60C5,0X00,'UNSIGNED32'])\n"
   ]
  },
  {
   "cell_type": "code",
   "execution_count": 5,
   "metadata": {
    "scrolled": true
   },
   "outputs": [
    {
     "name": "stdout",
     "output_type": "stream",
     "text": [
      "data size 1\n",
      "b'\\x00'\n",
      "0\n"
     ]
    }
   ],
   "source": [
    "mail.read_sdo_test(0,[0x234A,0X01,'UNSIGNED8'])"
   ]
  },
  {
   "cell_type": "code",
   "execution_count": 6,
   "metadata": {
    "scrolled": true
   },
   "outputs": [
    {
     "name": "stdout",
     "output_type": "stream",
     "text": [
      "data size 2\n",
      "b'\\x00\\x00'\n",
      "0\n"
     ]
    }
   ],
   "source": [
    "mail.read_sdo_test(0,[0x6086, 0x00, 'INTEGER16'])"
   ]
  },
  {
   "cell_type": "code",
   "execution_count": 6,
   "metadata": {},
   "outputs": [
    {
     "name": "stdout",
     "output_type": "stream",
     "text": [
      "data size 4\n",
      "b'3\\x93\\x00\\x00'\n",
      "37683\n"
     ]
    }
   ],
   "source": [
    "mail.read_sdo_test(0, [0x6064, 0x00, 'INTEGER32'])"
   ]
  },
  {
   "cell_type": "code",
   "execution_count": 7,
   "metadata": {},
   "outputs": [
    {
     "name": "stdout",
     "output_type": "stream",
     "text": [
      "data size 4\n",
      "b'\\xe8\\x03\\x00\\x00'\n",
      "1000\n"
     ]
    }
   ],
   "source": [
    "mail.read_sdo_test(0,[0x6080, 0x00, 'UNSIGNED32'])"
   ]
  },
  {
   "cell_type": "code",
   "execution_count": 8,
   "metadata": {},
   "outputs": [
    {
     "name": "stdout",
     "output_type": "stream",
     "text": [
      "data size 4\n",
      "b'3\\x93\\x00\\x00'\n",
      "[ 0.         16.51571372  5.50523791  5.50523791]\n",
      "0\n",
      "16\n",
      "5\n",
      "5\n"
     ]
    }
   ],
   "source": [
    "# mail.SDO_go_to_pos(1,0,10)\n",
    "mail.SDO_go_to_pos(0,0,10)"
   ]
  },
  {
   "cell_type": "code",
   "execution_count": null,
   "metadata": {},
   "outputs": [],
   "source": [
    "mail.SDO_go_to_pos(0,10000)\n"
   ]
  },
  {
   "cell_type": "code",
   "execution_count": null,
   "metadata": {},
   "outputs": [],
   "source": [
    "for i in range(10):\n",
    "    mail.SDO_go_to_pos(0,0)\n",
    "    time.sleep(3)\n",
    "    mail.SDO_go_to_pos(0,50000)\n",
    "    time.sleep(3)"
   ]
  },
  {
   "cell_type": "code",
   "execution_count": null,
   "metadata": {
    "scrolled": true
   },
   "outputs": [],
   "source": [
    "mail.SDO_get_data(0)"
   ]
  },
  {
   "cell_type": "code",
   "execution_count": null,
   "metadata": {},
   "outputs": [],
   "source": [
    "import numpy as np"
   ]
  },
  {
   "cell_type": "code",
   "execution_count": 9,
   "metadata": {},
   "outputs": [
    {
     "data": {
      "text/plain": [
       "array([[1],\n",
       "       [2],\n",
       "       [3]])"
      ]
     },
     "execution_count": 9,
     "metadata": {},
     "output_type": "execute_result"
    }
   ],
   "source": [
    "np.vstack( [1,2,3])"
   ]
  }
 ],
 "metadata": {
  "kernelspec": {
   "display_name": "Python 3",
   "language": "python",
   "name": "python3"
  },
  "language_info": {
   "codemirror_mode": {
    "name": "ipython",
    "version": 3
   },
   "file_extension": ".py",
   "mimetype": "text/x-python",
   "name": "python",
   "nbconvert_exporter": "python",
   "pygments_lexer": "ipython3",
   "version": "3.7.3"
  }
 },
 "nbformat": 4,
 "nbformat_minor": 2
}
