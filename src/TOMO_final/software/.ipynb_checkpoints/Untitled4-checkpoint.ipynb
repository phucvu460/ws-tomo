{
 "cells": [
  {
   "cell_type": "code",
   "execution_count": 1,
   "metadata": {
    "scrolled": true
   },
   "outputs": [
    {
     "name": "stdout",
     "output_type": "stream",
     "text": [
      "interface name:  enp8s0\n",
      "vendor_id 154\n",
      "productcode 198948\n",
      "12 slaves found and configured\n",
      "current_state_____ 2\n",
      "current_state_____ 2\n",
      "current_state_____ 2\n",
      "current_state_____ 2\n",
      "current_state_____ 2\n",
      "current_state_____ 2\n",
      "current_state_____ 2\n",
      "current_state_____ 2\n",
      "current_state_____ 2\n",
      "current_state_____ 2\n",
      "current_state_____ 2\n",
      "current_state_____ 2\n",
      ">>>preop:  2\n",
      ">>>OP_STATE:  8\n",
      ">>>current state:  8\n",
      "---output len 23\n"
     ]
    }
   ],
   "source": [
    "from Mailbox import mail_box\n",
    "import math\n",
    "import time"
   ]
  },
  {
   "cell_type": "code",
   "execution_count": 2,
   "metadata": {
    "scrolled": true
   },
   "outputs": [
    {
     "name": "stdout",
     "output_type": "stream",
     "text": [
      "shoulder_1\n",
      "SlaveInfo(ID=0, DRIVER_TYPE='GOLD_DRIVE', BELONG_TO='arm', PARSING_INFO='<iIHIIIb', JOINT_NAME='shoulder_1', GEAR_RATIO=100, ENCODER_RES=65536, TARGET_DEACCE=5000, TARGET_ACCE=5000, TARGET_VELOCITY=5000, ACTUAL_TORQUE=0, TARGET_POS=0, TARGET_REACH=False, CONTROL_WORD=0, STATUS_WORD=0, MODE_OF_OPERATION=1, DIGITAL_OUTPUT=0, ACTUAL_POS=0, DIGITAL_INPUT=0, ACTUAL_VELOCITY=0, DRIVE_DEF=<module 'Ethercat_Communication.Gold_drive_definition' from '/home/joey/ws_moveit/src/TOMO_final/software/Ethercat_Communication/Gold_drive_definition.py'>)\n",
      "shoulder_2\n",
      "SlaveInfo(ID=1, DRIVER_TYPE='GOLD_DRIVE', BELONG_TO='arm', PARSING_INFO='<iIHIIIb', JOINT_NAME='shoulder_2', GEAR_RATIO=100, ENCODER_RES=65536, TARGET_DEACCE=5000, TARGET_ACCE=5000, TARGET_VELOCITY=5000, ACTUAL_TORQUE=0, TARGET_POS=0, TARGET_REACH=False, CONTROL_WORD=0, STATUS_WORD=0, MODE_OF_OPERATION=1, DIGITAL_OUTPUT=0, ACTUAL_POS=0, DIGITAL_INPUT=0, ACTUAL_VELOCITY=0, DRIVE_DEF=<module 'Ethercat_Communication.Gold_drive_definition' from '/home/joey/ws_moveit/src/TOMO_final/software/Ethercat_Communication/Gold_drive_definition.py'>)\n",
      "upper_arm\n",
      "SlaveInfo(ID=2, DRIVER_TYPE='GOLD_DRIVE', BELONG_TO='arm', PARSING_INFO='<iIHIIIb', JOINT_NAME='upper_arm', GEAR_RATIO=80, ENCODER_RES=65536, TARGET_DEACCE=5000, TARGET_ACCE=5000, TARGET_VELOCITY=5000, ACTUAL_TORQUE=0, TARGET_POS=0, TARGET_REACH=False, CONTROL_WORD=0, STATUS_WORD=0, MODE_OF_OPERATION=1, DIGITAL_OUTPUT=0, ACTUAL_POS=0, DIGITAL_INPUT=0, ACTUAL_VELOCITY=0, DRIVE_DEF=<module 'Ethercat_Communication.Gold_drive_definition' from '/home/joey/ws_moveit/src/TOMO_final/software/Ethercat_Communication/Gold_drive_definition.py'>)\n",
      "elbow\n",
      "SlaveInfo(ID=3, DRIVER_TYPE='GOLD_DRIVE', BELONG_TO='arm', PARSING_INFO='<iIHIIIb', JOINT_NAME='elbow', GEAR_RATIO=80, ENCODER_RES=65536, TARGET_DEACCE=5000, TARGET_ACCE=5000, TARGET_VELOCITY=5000, ACTUAL_TORQUE=0, TARGET_POS=0, TARGET_REACH=False, CONTROL_WORD=0, STATUS_WORD=0, MODE_OF_OPERATION=1, DIGITAL_OUTPUT=0, ACTUAL_POS=0, DIGITAL_INPUT=0, ACTUAL_VELOCITY=0, DRIVE_DEF=<module 'Ethercat_Communication.Gold_drive_definition' from '/home/joey/ws_moveit/src/TOMO_final/software/Ethercat_Communication/Gold_drive_definition.py'>)\n",
      "lower_arm\n",
      "SlaveInfo(ID=4, DRIVER_TYPE='GOLD_DRIVE', BELONG_TO='arm', PARSING_INFO='<iIHIIIb', JOINT_NAME='lower_arm', GEAR_RATIO=50, ENCODER_RES=65536, TARGET_DEACCE=5000, TARGET_ACCE=5000, TARGET_VELOCITY=5000, ACTUAL_TORQUE=0, TARGET_POS=0, TARGET_REACH=False, CONTROL_WORD=0, STATUS_WORD=0, MODE_OF_OPERATION=1, DIGITAL_OUTPUT=0, ACTUAL_POS=0, DIGITAL_INPUT=0, ACTUAL_VELOCITY=0, DRIVE_DEF=<module 'Ethercat_Communication.Gold_drive_definition' from '/home/joey/ws_moveit/src/TOMO_final/software/Ethercat_Communication/Gold_drive_definition.py'>)\n",
      "wrist\n",
      "SlaveInfo(ID=5, DRIVER_TYPE='GOLD_DRIVE', BELONG_TO='arm', PARSING_INFO='<iIHIIIb', JOINT_NAME='wrist', GEAR_RATIO=50, ENCODER_RES=65536, TARGET_DEACCE=5000, TARGET_ACCE=5000, TARGET_VELOCITY=5000, ACTUAL_TORQUE=0, TARGET_POS=0, TARGET_REACH=False, CONTROL_WORD=0, STATUS_WORD=0, MODE_OF_OPERATION=1, DIGITAL_OUTPUT=0, ACTUAL_POS=0, DIGITAL_INPUT=0, ACTUAL_VELOCITY=0, DRIVE_DEF=<module 'Ethercat_Communication.Gold_drive_definition' from '/home/joey/ws_moveit/src/TOMO_final/software/Ethercat_Communication/Gold_drive_definition.py'>)\n",
      "shoulder_1\n",
      "SlaveInfo(ID=6, DRIVER_TYPE='GOLD_DRIVE', BELONG_TO='arm', PARSING_INFO='<iIHIIIb', JOINT_NAME='shoulder_1', GEAR_RATIO=120, ENCODER_RES=65536, TARGET_DEACCE=5000, TARGET_ACCE=5000, TARGET_VELOCITY=5000, ACTUAL_TORQUE=0, TARGET_POS=0, TARGET_REACH=False, CONTROL_WORD=0, STATUS_WORD=0, MODE_OF_OPERATION=1, DIGITAL_OUTPUT=0, ACTUAL_POS=0, DIGITAL_INPUT=0, ACTUAL_VELOCITY=0, DRIVE_DEF=<module 'Ethercat_Communication.Gold_drive_definition' from '/home/joey/ws_moveit/src/TOMO_final/software/Ethercat_Communication/Gold_drive_definition.py'>)\n",
      "shoulder_2\n",
      "SlaveInfo(ID=7, DRIVER_TYPE='GOLD_DRIVE', BELONG_TO='arm', PARSING_INFO='<iIHIIIb', JOINT_NAME='shoulder_2', GEAR_RATIO=120, ENCODER_RES=65536, TARGET_DEACCE=5000, TARGET_ACCE=5000, TARGET_VELOCITY=5000, ACTUAL_TORQUE=0, TARGET_POS=0, TARGET_REACH=False, CONTROL_WORD=0, STATUS_WORD=0, MODE_OF_OPERATION=1, DIGITAL_OUTPUT=0, ACTUAL_POS=0, DIGITAL_INPUT=0, ACTUAL_VELOCITY=0, DRIVE_DEF=<module 'Ethercat_Communication.Gold_drive_definition' from '/home/joey/ws_moveit/src/TOMO_final/software/Ethercat_Communication/Gold_drive_definition.py'>)\n",
      "upper_arm\n",
      "SlaveInfo(ID=8, DRIVER_TYPE='GOLD_DRIVE', BELONG_TO='arm', PARSING_INFO='<iIHIIIb', JOINT_NAME='upper_arm', GEAR_RATIO=120, ENCODER_RES=65536, TARGET_DEACCE=5000, TARGET_ACCE=5000, TARGET_VELOCITY=5000, ACTUAL_TORQUE=0, TARGET_POS=0, TARGET_REACH=False, CONTROL_WORD=0, STATUS_WORD=0, MODE_OF_OPERATION=1, DIGITAL_OUTPUT=0, ACTUAL_POS=0, DIGITAL_INPUT=0, ACTUAL_VELOCITY=0, DRIVE_DEF=<module 'Ethercat_Communication.Gold_drive_definition' from '/home/joey/ws_moveit/src/TOMO_final/software/Ethercat_Communication/Gold_drive_definition.py'>)\n",
      "elbow\n",
      "SlaveInfo(ID=9, DRIVER_TYPE='GOLD_DRIVE', BELONG_TO='arm', PARSING_INFO='<iIHIIIb', JOINT_NAME='elbow', GEAR_RATIO=120, ENCODER_RES=65536, TARGET_DEACCE=5000, TARGET_ACCE=5000, TARGET_VELOCITY=5000, ACTUAL_TORQUE=0, TARGET_POS=0, TARGET_REACH=False, CONTROL_WORD=0, STATUS_WORD=0, MODE_OF_OPERATION=1, DIGITAL_OUTPUT=0, ACTUAL_POS=0, DIGITAL_INPUT=0, ACTUAL_VELOCITY=0, DRIVE_DEF=<module 'Ethercat_Communication.Gold_drive_definition' from '/home/joey/ws_moveit/src/TOMO_final/software/Ethercat_Communication/Gold_drive_definition.py'>)\n",
      "lower_arm\n",
      "SlaveInfo(ID=10, DRIVER_TYPE='GOLD_DRIVE', BELONG_TO='arm', PARSING_INFO='<iIHIIIb', JOINT_NAME='lower_arm', GEAR_RATIO=100, ENCODER_RES=65536, TARGET_DEACCE=5000, TARGET_ACCE=5000, TARGET_VELOCITY=5000, ACTUAL_TORQUE=0, TARGET_POS=0, TARGET_REACH=False, CONTROL_WORD=0, STATUS_WORD=0, MODE_OF_OPERATION=1, DIGITAL_OUTPUT=0, ACTUAL_POS=0, DIGITAL_INPUT=0, ACTUAL_VELOCITY=0, DRIVE_DEF=<module 'Ethercat_Communication.Gold_drive_definition' from '/home/joey/ws_moveit/src/TOMO_final/software/Ethercat_Communication/Gold_drive_definition.py'>)\n",
      "wrist\n",
      "SlaveInfo(ID=11, DRIVER_TYPE='GOLD_DRIVE', BELONG_TO='arm', PARSING_INFO='<iIHIIIb', JOINT_NAME='wrist', GEAR_RATIO=100, ENCODER_RES=65536, TARGET_DEACCE=5000, TARGET_ACCE=5000, TARGET_VELOCITY=5000, ACTUAL_TORQUE=0, TARGET_POS=0, TARGET_REACH=False, CONTROL_WORD=0, STATUS_WORD=0, MODE_OF_OPERATION=1, DIGITAL_OUTPUT=0, ACTUAL_POS=0, DIGITAL_INPUT=0, ACTUAL_VELOCITY=0, DRIVE_DEF=<module 'Ethercat_Communication.Gold_drive_definition' from '/home/joey/ws_moveit/src/TOMO_final/software/Ethercat_Communication/Gold_drive_definition.py'>)\n"
     ]
    }
   ],
   "source": [
    "mail = mail_box.MAIL_BOX()"
   ]
  },
  {
   "cell_type": "code",
   "execution_count": 3,
   "metadata": {},
   "outputs": [],
   "source": [
    "mail.servo_on(0)\n",
    "mail.servo_on(1)\n",
    "mail.servo_on(2)\n",
    "mail.servo_on(3)\n",
    "mail.servo_on(4)\n",
    "mail.servo_on(5)\n",
    "mail.servo_on(6)\n",
    "mail.servo_on(7)\n",
    "mail.servo_on(8)\n",
    "mail.servo_on(9)\n",
    "mail.servo_on(10)\n",
    "mail.servo_on(11)"
   ]
  },
  {
   "cell_type": "code",
   "execution_count": 7,
   "metadata": {},
   "outputs": [
    {
     "name": "stdout",
     "output_type": "stream",
     "text": [
      "current_pos:  -1.0471967522482708\n",
      "current velocity:  -7.989483270237714e-07\n",
      "move_array:  [-1966079    93622    31207    31207]\n"
     ]
    }
   ],
   "source": [
    "mail.move_to_position(8,-math.pi/2,10)\n"
   ]
  },
  {
   "cell_type": "code",
   "execution_count": 9,
   "metadata": {
    "scrolled": true
   },
   "outputs": [
    {
     "name": "stdout",
     "output_type": "stream",
     "text": [
      "current_pos:  -0.07999901556422104\n",
      "current velocity:  4.601942363656923e-05\n",
      "move_array:  [41721 11920  3973  3973]\n"
     ]
    }
   ],
   "source": [
    "mail.move_to_position(4,-0.08,10)\n"
   ]
  },
  {
   "cell_type": "code",
   "execution_count": 7,
   "metadata": {},
   "outputs": [
    {
     "name": "stdout",
     "output_type": "stream",
     "text": [
      "32765 520\n"
     ]
    }
   ],
   "source": [
    "mail.get_EPOS_input_data(0)"
   ]
  },
  {
   "cell_type": "code",
   "execution_count": null,
   "metadata": {},
   "outputs": [],
   "source": []
  },
  {
   "cell_type": "code",
   "execution_count": 6,
   "metadata": {},
   "outputs": [
    {
     "data": {
      "text/plain": [
       "0.0"
      ]
     },
     "execution_count": 6,
     "metadata": {},
     "output_type": "execute_result"
    }
   ],
   "source": [
    "mail.actual_position_in_rad(0)"
   ]
  },
  {
   "cell_type": "code",
   "execution_count": null,
   "metadata": {},
   "outputs": [],
   "source": []
  },
  {
   "cell_type": "code",
   "execution_count": null,
   "metadata": {},
   "outputs": [],
   "source": []
  },
  {
   "cell_type": "code",
   "execution_count": null,
   "metadata": {},
   "outputs": [],
   "source": []
  }
 ],
 "metadata": {
  "kernelspec": {
   "display_name": "Python 3",
   "language": "python",
   "name": "python3"
  },
  "language_info": {
   "codemirror_mode": {
    "name": "ipython",
    "version": 3
   },
   "file_extension": ".py",
   "mimetype": "text/x-python",
   "name": "python",
   "nbconvert_exporter": "python",
   "pygments_lexer": "ipython3",
   "version": "3.7.6"
  }
 },
 "nbformat": 4,
 "nbformat_minor": 2
}
