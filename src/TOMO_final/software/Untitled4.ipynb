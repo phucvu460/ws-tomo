{
 "cells": [
  {
   "cell_type": "code",
   "execution_count": 1,
   "metadata": {
    "scrolled": false
   },
   "outputs": [
    {
     "name": "stdout",
     "output_type": "stream",
     "text": [
      "interface name:  enp8s0\n",
      "vendor_id 154\n",
      "productcode 198948\n",
      "6 slaves found and configured\n",
      "current_state_____ 2\n",
      "current_state_____ 2\n",
      "current_state_____ 2\n",
      "current_state_____ 2\n",
      "current_state_____ 2\n",
      "current_state_____ 2\n",
      ">>>preop:  2\n",
      ">>>OP_STATE:  8\n",
      ">>>current state:  8\n",
      "---output len 23\n"
     ]
    }
   ],
   "source": [
    "from Mailbox import mail_box\n",
    "import math\n",
    "import time\n",
    "# from Serial_Communication import Serial_controller\n",
    "# ser_right = Serial_controller.SERIAL_MAIN_CONTROLLER('/dev/ttyUSB1')\n"
   ]
  },
  {
   "cell_type": "code",
   "execution_count": 1,
   "metadata": {},
   "outputs": [
    {
     "name": "stdout",
     "output_type": "stream",
     "text": [
      "Serial port is initialized!\n"
     ]
    }
   ],
   "source": [
    "from Serial_Communication import Serial_controller\n",
    "ser_right = Serial_controller.SERIAL_MAIN_CONTROLLER('/dev/ttyUSB0')"
   ]
  },
  {
   "cell_type": "code",
   "execution_count": 2,
   "metadata": {
    "scrolled": true
   },
   "outputs": [
    {
     "name": "stdout",
     "output_type": "stream",
     "text": [
      "shoulder_1\n",
      "SlaveInfo(ID=0, DRIVER_TYPE='GOLD_DRIVE', BELONG_TO='arm', PARSING_INFO='<iIHIIIb', JOINT_NAME='shoulder_1', GEAR_RATIO=100, ENCODER_RES=65536, TARGET_DEACCE=5000, TARGET_ACCE=5000, TARGET_VELOCITY=5000, ACTUAL_TORQUE=0, TARGET_POS=0, TARGET_REACH=False, CONTROL_WORD=0, STATUS_WORD=0, MODE_OF_OPERATION=1, DIGITAL_OUTPUT=0, ACTUAL_POS=0, DIGITAL_INPUT=0, ACTUAL_VELOCITY=0, DRIVE_DEF=<module 'Ethercat_Communication.Gold_drive_definition' from '/home/joey/ws_moveit/src/TOMO_final/software/Ethercat_Communication/Gold_drive_definition.py'>)\n",
      "shoulder_2\n",
      "SlaveInfo(ID=1, DRIVER_TYPE='GOLD_DRIVE', BELONG_TO='arm', PARSING_INFO='<iIHIIIb', JOINT_NAME='shoulder_2', GEAR_RATIO=100, ENCODER_RES=65536, TARGET_DEACCE=5000, TARGET_ACCE=5000, TARGET_VELOCITY=5000, ACTUAL_TORQUE=0, TARGET_POS=0, TARGET_REACH=False, CONTROL_WORD=0, STATUS_WORD=0, MODE_OF_OPERATION=1, DIGITAL_OUTPUT=0, ACTUAL_POS=0, DIGITAL_INPUT=0, ACTUAL_VELOCITY=0, DRIVE_DEF=<module 'Ethercat_Communication.Gold_drive_definition' from '/home/joey/ws_moveit/src/TOMO_final/software/Ethercat_Communication/Gold_drive_definition.py'>)\n",
      "upper_arm\n",
      "SlaveInfo(ID=2, DRIVER_TYPE='GOLD_DRIVE', BELONG_TO='arm', PARSING_INFO='<iIHIIIb', JOINT_NAME='upper_arm', GEAR_RATIO=80, ENCODER_RES=65536, TARGET_DEACCE=5000, TARGET_ACCE=5000, TARGET_VELOCITY=5000, ACTUAL_TORQUE=0, TARGET_POS=0, TARGET_REACH=False, CONTROL_WORD=0, STATUS_WORD=0, MODE_OF_OPERATION=1, DIGITAL_OUTPUT=0, ACTUAL_POS=0, DIGITAL_INPUT=0, ACTUAL_VELOCITY=0, DRIVE_DEF=<module 'Ethercat_Communication.Gold_drive_definition' from '/home/joey/ws_moveit/src/TOMO_final/software/Ethercat_Communication/Gold_drive_definition.py'>)\n",
      "elbow\n",
      "SlaveInfo(ID=3, DRIVER_TYPE='GOLD_DRIVE', BELONG_TO='arm', PARSING_INFO='<iIHIIIb', JOINT_NAME='elbow', GEAR_RATIO=80, ENCODER_RES=65536, TARGET_DEACCE=5000, TARGET_ACCE=5000, TARGET_VELOCITY=5000, ACTUAL_TORQUE=0, TARGET_POS=0, TARGET_REACH=False, CONTROL_WORD=0, STATUS_WORD=0, MODE_OF_OPERATION=1, DIGITAL_OUTPUT=0, ACTUAL_POS=0, DIGITAL_INPUT=0, ACTUAL_VELOCITY=0, DRIVE_DEF=<module 'Ethercat_Communication.Gold_drive_definition' from '/home/joey/ws_moveit/src/TOMO_final/software/Ethercat_Communication/Gold_drive_definition.py'>)\n",
      "lower_arm\n",
      "SlaveInfo(ID=4, DRIVER_TYPE='GOLD_DRIVE', BELONG_TO='arm', PARSING_INFO='<iIHIIIb', JOINT_NAME='lower_arm', GEAR_RATIO=50, ENCODER_RES=65536, TARGET_DEACCE=5000, TARGET_ACCE=5000, TARGET_VELOCITY=5000, ACTUAL_TORQUE=0, TARGET_POS=0, TARGET_REACH=False, CONTROL_WORD=0, STATUS_WORD=0, MODE_OF_OPERATION=1, DIGITAL_OUTPUT=0, ACTUAL_POS=0, DIGITAL_INPUT=0, ACTUAL_VELOCITY=0, DRIVE_DEF=<module 'Ethercat_Communication.Gold_drive_definition' from '/home/joey/ws_moveit/src/TOMO_final/software/Ethercat_Communication/Gold_drive_definition.py'>)\n",
      "wrist\n",
      "SlaveInfo(ID=5, DRIVER_TYPE='GOLD_DRIVE', BELONG_TO='arm', PARSING_INFO='<iIHIIIb', JOINT_NAME='wrist', GEAR_RATIO=50, ENCODER_RES=65536, TARGET_DEACCE=5000, TARGET_ACCE=5000, TARGET_VELOCITY=5000, ACTUAL_TORQUE=0, TARGET_POS=0, TARGET_REACH=False, CONTROL_WORD=0, STATUS_WORD=0, MODE_OF_OPERATION=1, DIGITAL_OUTPUT=0, ACTUAL_POS=0, DIGITAL_INPUT=0, ACTUAL_VELOCITY=0, DRIVE_DEF=<module 'Ethercat_Communication.Gold_drive_definition' from '/home/joey/ws_moveit/src/TOMO_final/software/Ethercat_Communication/Gold_drive_definition.py'>)\n"
     ]
    }
   ],
   "source": [
    "mail = mail_box.MAIL_BOX()\n",
    "# ser_right = Serial_controller.SERIAL_MAIN_CONTROLLER('/dev/ttyUSB0')"
   ]
  },
  {
   "cell_type": "code",
   "execution_count": 3,
   "metadata": {},
   "outputs": [],
   "source": [
    "mail.servo_on(0)\n",
    "mail.servo_on(1)\n",
    "mail.servo_on(2)\n",
    "mail.servo_on(3)\n",
    "mail.servo_on(4)\n",
    "mail.servo_on(5)\n",
    "mail.servo_on(6)\n",
    "mail.servo_on(7)\n",
    "mail.servo_on(8)\n",
    "mail.servo_on(9)\n",
    "mail.servo_on(10)\n",
    "mail.servo_on(11)"
   ]
  },
  {
   "cell_type": "code",
   "execution_count": 3,
   "metadata": {},
   "outputs": [],
   "source": [
    "mail.servo_on(0)\n",
    "mail.servo_on(1)\n",
    "mail.servo_on(2)\n",
    "mail.servo_on(3)\n",
    "mail.servo_on(4)\n",
    "mail.servo_on(5)"
   ]
  },
  {
   "cell_type": "code",
   "execution_count": 10,
   "metadata": {},
   "outputs": [
    {
     "name": "stdout",
     "output_type": "stream",
     "text": [
      "current_pos:  -1.8858098277051298\n",
      "current velocity:  0.0\n",
      "move_array:  [     0 280995  93665  93665]\n"
     ]
    }
   ],
   "source": [
    "mail.move_to_position(0,0,10)"
   ]
  },
  {
   "cell_type": "code",
   "execution_count": 4,
   "metadata": {},
   "outputs": [
    {
     "name": "stdout",
     "output_type": "stream",
     "text": [
      "current_pos:  0.9984153642451802\n",
      "current velocity:  0.0\n",
      "move_array:  [1966079  102345   34115   34115]\n"
     ]
    }
   ],
   "source": [
    "mail.move_to_position(6,math.pi/2,10)"
   ]
  },
  {
   "cell_type": "code",
   "execution_count": 12,
   "metadata": {
    "scrolled": true
   },
   "outputs": [
    {
     "name": "stdout",
     "output_type": "stream",
     "text": [
      "current_pos:  -0.3141592653589793\n",
      "current velocity:  0.0\n",
      "move_array:  [-491519   14043    4681    4681]\n"
     ]
    }
   ],
   "source": [
    "mail.move_to_position(7,-math.pi/8,10)"
   ]
  },
  {
   "cell_type": "code",
   "execution_count": 7,
   "metadata": {},
   "outputs": [
    {
     "name": "stdout",
     "output_type": "stream",
     "text": [
      "current_pos:  0.0\n",
      "current velocity:  0.0001565938720966592\n",
      "move_array:  [-1966079   280868    93622    93622]\n"
     ]
    }
   ],
   "source": [
    "mail.move_to_position(8,-math.pi/2,10)"
   ]
  },
  {
   "cell_type": "code",
   "execution_count": 8,
   "metadata": {},
   "outputs": [
    {
     "name": "stdout",
     "output_type": "stream",
     "text": [
      "current_pos:  -0.10465392177751301\n",
      "current velocity:  0.0\n",
      "move_array:  [    0 15594  5198  5198]\n"
     ]
    }
   ],
   "source": [
    "mail.move_to_position(10,0,10)"
   ]
  },
  {
   "cell_type": "code",
   "execution_count": 4,
   "metadata": {},
   "outputs": [
    {
     "name": "stdout",
     "output_type": "stream",
     "text": [
      "current_pos:  9.108010928070994e-05\n",
      "current velocity:  -4.314320965928366e-05\n",
      "move_array:  [87615 12500  4166  4166]\n"
     ]
    }
   ],
   "source": [
    "mail.move_to_position(9,0.07,10)"
   ]
  },
  {
   "cell_type": "code",
   "execution_count": 6,
   "metadata": {},
   "outputs": [
    {
     "name": "stdout",
     "output_type": "stream",
     "text": [
      "current_pos:  0.0\n",
      "current velocity:  0.0\n",
      "move_array:  [-7509  1072   357   357]\n"
     ]
    }
   ],
   "source": [
    "mail.move_to_position(9,-0.006,10)"
   ]
  },
  {
   "cell_type": "code",
   "execution_count": 16,
   "metadata": {},
   "outputs": [
    {
     "data": {
      "text/plain": [
       "-0.5427847207234477"
      ]
     },
     "execution_count": 16,
     "metadata": {},
     "output_type": "execute_result"
    }
   ],
   "source": [
    "mail.actual_position_in_rad(0)\n"
   ]
  },
  {
   "cell_type": "code",
   "execution_count": 17,
   "metadata": {},
   "outputs": [
    {
     "data": {
      "text/plain": [
       "0.3236373491521277"
      ]
     },
     "execution_count": 17,
     "metadata": {},
     "output_type": "execute_result"
    }
   ],
   "source": [
    "mail.actual_position_in_rad(1)\n"
   ]
  },
  {
   "cell_type": "code",
   "execution_count": 18,
   "metadata": {},
   "outputs": [
    {
     "data": {
      "text/plain": [
       "0.6173469728171047"
      ]
     },
     "execution_count": 18,
     "metadata": {},
     "output_type": "execute_result"
    }
   ],
   "source": [
    "mail.actual_position_in_rad(2)\n"
   ]
  },
  {
   "cell_type": "code",
   "execution_count": 19,
   "metadata": {},
   "outputs": [
    {
     "data": {
      "text/plain": [
       "0.3637104400751571"
      ]
     },
     "execution_count": 19,
     "metadata": {},
     "output_type": "execute_result"
    }
   ],
   "source": [
    "mail.actual_position_in_rad(3)\n"
   ]
  },
  {
   "cell_type": "code",
   "execution_count": 20,
   "metadata": {},
   "outputs": [
    {
     "data": {
      "text/plain": [
       "-0.6483964217553968"
      ]
     },
     "execution_count": 20,
     "metadata": {},
     "output_type": "execute_result"
    }
   ],
   "source": [
    "mail.actual_position_in_rad(4)\n"
   ]
  },
  {
   "cell_type": "code",
   "execution_count": 21,
   "metadata": {},
   "outputs": [
    {
     "data": {
      "text/plain": [
       "-1.285144176902787"
      ]
     },
     "execution_count": 21,
     "metadata": {},
     "output_type": "execute_result"
    }
   ],
   "source": [
    "mail.actual_position_in_rad(5)\n"
   ]
  },
  {
   "cell_type": "code",
   "execution_count": 22,
   "metadata": {},
   "outputs": [
    {
     "data": {
      "text/plain": [
       "1.5686056104821975"
      ]
     },
     "execution_count": 22,
     "metadata": {},
     "output_type": "execute_result"
    }
   ],
   "source": [
    "mail.actual_position_in_rad(6)\n"
   ]
  },
  {
   "cell_type": "code",
   "execution_count": 23,
   "metadata": {},
   "outputs": [
    {
     "data": {
      "text/plain": [
       "-0.3925808373463246"
      ]
     },
     "execution_count": 23,
     "metadata": {},
     "output_type": "execute_result"
    }
   ],
   "source": [
    "mail.actual_position_in_rad(7)\n"
   ]
  },
  {
   "cell_type": "code",
   "execution_count": 24,
   "metadata": {},
   "outputs": [
    {
     "data": {
      "text/plain": [
       "-1.5726363047920322"
      ]
     },
     "execution_count": 24,
     "metadata": {},
     "output_type": "execute_result"
    }
   ],
   "source": [
    "mail.actual_position_in_rad(8)\n"
   ]
  },
  {
   "cell_type": "code",
   "execution_count": 25,
   "metadata": {},
   "outputs": [
    {
     "data": {
      "text/plain": [
       "0.06999985767218773"
      ]
     },
     "execution_count": 25,
     "metadata": {},
     "output_type": "execute_result"
    }
   ],
   "source": [
    "mail.actual_position_in_rad(9)\n"
   ]
  },
  {
   "cell_type": "code",
   "execution_count": 26,
   "metadata": {},
   "outputs": [
    {
     "data": {
      "text/plain": [
       "-0.00010354370318228078"
      ]
     },
     "execution_count": 26,
     "metadata": {},
     "output_type": "execute_result"
    }
   ],
   "source": [
    "mail.actual_position_in_rad(10)\n"
   ]
  },
  {
   "cell_type": "code",
   "execution_count": 27,
   "metadata": {},
   "outputs": [
    {
     "data": {
      "text/plain": [
       "-0.2804193579294346"
      ]
     },
     "execution_count": 27,
     "metadata": {},
     "output_type": "execute_result"
    }
   ],
   "source": [
    "mail.actual_position_in_rad(11)\n"
   ]
  },
  {
   "cell_type": "code",
   "execution_count": 15,
   "metadata": {},
   "outputs": [
    {
     "data": {
      "text/plain": [
       "-0.2804193579294346"
      ]
     },
     "execution_count": 15,
     "metadata": {},
     "output_type": "execute_result"
    }
   ],
   "source": [
    "mail.actual_position_in_rad(0)\n",
    "mail.actual_position_in_rad(1)\n",
    "mail.actual_position_in_rad(2)\n",
    "mail.actual_position_in_rad(3)\n",
    "mail.actual_position_in_rad(4)\n",
    "mail.actual_position_in_rad(5)\n",
    "mail.actual_position_in_rad(6)\n",
    "mail.actual_position_in_rad(7)\n",
    "mail.actual_position_in_rad(8)\n",
    "mail.actual_position_in_rad(9)\n",
    "mail.actual_position_in_rad(10)\n",
    "mail.actual_position_in_rad(11)\n"
   ]
  },
  {
   "cell_type": "code",
   "execution_count": 13,
   "metadata": {},
   "outputs": [
    {
     "name": "stdout",
     "output_type": "stream",
     "text": [
      "current_pos:  -1.2638352662830707\n",
      "current velocity:  0.0\n",
      "move_array:  [-669544    2980    1986    1986]\n"
     ]
    }
   ],
   "source": [
    "mail.move_to_position(5,-1.2838354214597761,5)"
   ]
  },
  {
   "cell_type": "code",
   "execution_count": 8,
   "metadata": {},
   "outputs": [
    {
     "name": "stdout",
     "output_type": "stream",
     "text": [
      "current_pos:  -0.5339183117694687\n",
      "current velocity:  0.0\n",
      "move_array:  [-567327    1490     496     496]\n"
     ]
    }
   ],
   "source": [
    "mail.move_to_position(0,-0.5439183117694687,10)"
   ]
  },
  {
   "cell_type": "code",
   "execution_count": 33,
   "metadata": {},
   "outputs": [
    {
     "name": "stdout",
     "output_type": "stream",
     "text": [
      "current_pos:  -0.0059993029876215\n",
      "current velocity:  -1.5978966540475428e-06\n",
      "move_array:  [87615 33972 28310 28310]\n"
     ]
    }
   ],
   "source": [
    "#Open\n",
    "ser_right.set_motor_data(1,3000,500,700,True)\n",
    "time.sleep(0.3)\n",
    "mail.move_to_position(9,0.07,4)"
   ]
  },
  {
   "cell_type": "code",
   "execution_count": 34,
   "metadata": {},
   "outputs": [
    {
     "name": "stdout",
     "output_type": "stream",
     "text": [
      "current_pos:  0.06999985767218773\n",
      "current velocity:  0.0\n",
      "move_array:  [-7509 13589  4529  4529]\n"
     ]
    }
   ],
   "source": [
    "ser_right.set_motor_data(1,0,500,700,True)\n",
    "mail.move_to_position(9,-0.006,10)"
   ]
  },
  {
   "cell_type": "code",
   "execution_count": 47,
   "metadata": {},
   "outputs": [
    {
     "name": "stdout",
     "output_type": "stream",
     "text": [
      "current_pos:  -0.09999956840360333\n",
      "current velocity:  0.0\n",
      "move_array:  [-250329   35761   23840   23840]\n"
     ]
    }
   ],
   "source": [
    "#open_7,9\n",
    "mail.move_to_position(7,-0.5,5)\n",
    "mail.move_to_position(9,-0.2,5)"
   ]
  },
  {
   "cell_type": "code",
   "execution_count": 4,
   "metadata": {},
   "outputs": [
    {
     "data": {
      "text/plain": [
       "-0.12877608924634554"
      ]
     },
     "execution_count": 4,
     "metadata": {},
     "output_type": "execute_result"
    }
   ],
   "source": [
    "mail.actual_position_in_rad(9)\n"
   ]
  },
  {
   "cell_type": "code",
   "execution_count": 17,
   "metadata": {},
   "outputs": [],
   "source": [
    "ser_right.set_motor_data(1,12000,800,700,True)\n"
   ]
  },
  {
   "cell_type": "code",
   "execution_count": 18,
   "metadata": {},
   "outputs": [],
   "source": [
    "ser_right.set_motor_data(1,0,1500,700,True)\n"
   ]
  },
  {
   "cell_type": "code",
   "execution_count": null,
   "metadata": {},
   "outputs": [],
   "source": []
  }
 ],
 "metadata": {
  "kernelspec": {
   "display_name": "Python 3",
   "language": "python",
   "name": "python3"
  },
  "language_info": {
   "codemirror_mode": {
    "name": "ipython",
    "version": 3
   },
   "file_extension": ".py",
   "mimetype": "text/x-python",
   "name": "python",
   "nbconvert_exporter": "python",
   "pygments_lexer": "ipython3",
   "version": "3.7.6"
  }
 },
 "nbformat": 4,
 "nbformat_minor": 2
}
