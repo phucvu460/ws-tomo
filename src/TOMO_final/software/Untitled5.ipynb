{
 "cells": [
  {
   "cell_type": "code",
   "execution_count": 1,
   "metadata": {},
   "outputs": [
    {
     "name": "stdout",
     "output_type": "stream",
     "text": [
      "Serial port is initialized!\n"
     ]
    }
   ],
   "source": [
    "from Serial_Communication import Serial_controller\n",
    "# ser_right = Serial_controller.SERIAL_MAIN_CONTROLLER('/dev/ttyUSB1')\n",
    "ser_left = Serial_controller.SERIAL_MAIN_CONTROLLER('/dev/ttyUSB0')"
   ]
  },
  {
   "cell_type": "code",
   "execution_count": 3,
   "metadata": {},
   "outputs": [],
   "source": [
    "ser_left.set_motor_data(1,0,300,100,True)"
   ]
  },
  {
   "cell_type": "code",
   "execution_count": null,
   "metadata": {},
   "outputs": [],
   "source": []
  }
 ],
 "metadata": {
  "kernelspec": {
   "display_name": "Python 3",
   "language": "python",
   "name": "python3"
  },
  "language_info": {
   "codemirror_mode": {
    "name": "ipython",
    "version": 3
   },
   "file_extension": ".py",
   "mimetype": "text/x-python",
   "name": "python",
   "nbconvert_exporter": "python",
   "pygments_lexer": "ipython3",
   "version": "3.7.6"
  }
 },
 "nbformat": 4,
 "nbformat_minor": 4
}
